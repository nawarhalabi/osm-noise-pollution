{
 "cells": [
  {
   "cell_type": "code",
   "execution_count": 3,
   "id": "d2ef3683",
   "metadata": {},
   "outputs": [],
   "source": [
    "import numpy as np\n",
    "import psycopg2\n",
    "import matplotlib.pyplot as plt\n",
    "\n",
    "# Connect to DB containing the exported tables using import-osm\n",
    "# Based on martinelli's work\n",
    "connection = psycopg2.connect(\n",
    "    database=\"noise\",\n",
    "    user=\"noise\",\n",
    "    password=\"noise\",\n",
    "    host=\"localhost\",\n",
    "    port=63559 # Change to the port postgres is accessible from\n",
    ")\n",
    "cursor = connection.cursor()"
   ]
  },
  {
   "cell_type": "markdown",
   "id": "fe250fac",
   "metadata": {},
   "source": [
    "## Query\n",
    "This query gets all geometries within x meters of certain long, lat of a certain type"
   ]
  },
  {
   "cell_type": "code",
   "execution_count": 4,
   "id": "b2d1c83f",
   "metadata": {},
   "outputs": [],
   "source": [
    "q = \"\"\"\n",
    "SELECT\n",
    "    id,\n",
    "    ST_Distance(ST_Transform(ST_SetSrid(ST_Point({0}, {1}), 4326), 3857), geometry) * cosd({1}) dist\n",
    "    {5}\n",
    "FROM {2}\n",
    "WHERE\n",
    "    ST_DWithin(ST_Transform(ST_SetSrid(ST_Point({0}, {1}), 4326), 3857), geometry, {3} / cosd({1}))\n",
    "ORDER BY dist\n",
    "LIMIT {4}\n",
    "\"\"\""
   ]
  },
  {
   "cell_type": "markdown",
   "id": "4f9f6220",
   "metadata": {},
   "source": [
    "## Config\n",
    "* tables: the table names containing the geometries. Mapping to the noise produced by each geometry\n",
    "* limits: How many rows to retreive from each table for measuring noise"
   ]
  },
  {
   "cell_type": "code",
   "execution_count": 5,
   "id": "7e47febd",
   "metadata": {},
   "outputs": [],
   "source": [
    "tables = {\n",
    "    \"osm_light_railway\": 70,\n",
    "    \"osm_secondary_road\": 85,\n",
    "    \"osm_trunk\": 95,\n",
    "    \"osm_motorway\": 100,\n",
    "    \"osm_tertiary_road\": 88,\n",
    "    \"osm_primary_road\": 90,\n",
    "    \"osm_railway\": 90,\n",
    "    \"osm_retail_zone\": 80,\n",
    "    \"osm_sport\": 70,\n",
    "    \"osm_sport_point\": 70,\n",
    "    \"osm_leisure\": 60,\n",
    "    \"osm_party\": 80,\n",
    "    \"osm_shop\": 60,\n",
    "    \"osm_industrial_zone\": 80,\n",
    "    \"osm_food\": 65,\n",
    "    \"osm_school\": 70,\n",
    "    \"osm_school_point\": 70\n",
    "}\n",
    "limits = {\n",
    "    \"osm_light_railway\": 1,\n",
    "    \"osm_secondary_road\": 2,\n",
    "    \"osm_trunk\": 2,\n",
    "    \"osm_motorway\": 2,\n",
    "    \"osm_tertiary_road\": 2,\n",
    "    \"osm_primary_road\": 2,\n",
    "    \"osm_railway\": 1,\n",
    "    \"osm_retail_zone\": 2,\n",
    "    \"osm_sport\": 2,\n",
    "    \"osm_sport_point\": 2,\n",
    "    \"osm_leisure\": 2,\n",
    "    \"osm_party\": 2,\n",
    "    \"osm_shop\": 2,\n",
    "    \"osm_industrial_zone\": 2,\n",
    "    \"osm_food\": 2,\n",
    "    \"osm_school\": 2,\n",
    "    \"osm_school_point\": 2,\n",
    "}\n",
    "speed_limits = {\n",
    "    \"osm_trunk\": [100, 80],\n",
    "    \"osm_motorway\": [100, 80],\n",
    "    \"osm_secondary_road\": [50 ,30],\n",
    "    \"osm_tertiary_road\": [50, 30],\n",
    "    \"osm_primary_road\": [50, 30],\n",
    "}"
   ]
  },
  {
   "cell_type": "markdown",
   "id": "fe13b5e1",
   "metadata": {},
   "source": [
    "## Endpoint\n",
    "\n",
    "A function that calculates noise given long, lat"
   ]
  },
  {
   "cell_type": "code",
   "execution_count": 6,
   "id": "4b39d7cc",
   "metadata": {},
   "outputs": [],
   "source": [
    "def noise(long, lat, tables, max_dist=1200):\n",
    "    \"\"\"Noise report for certain long, lat\n",
    "    \n",
    "    Args:\n",
    "        long: Longitude\n",
    "        lat: Latitude\n",
    "        max_dist: Maximum distance to look for geometries for (in meters)\n",
    "        \n",
    "    Returns:\n",
    "        dict containing the report of the structure (noise in dB and distances in meters)\n",
    "        {'osm_secondary_road': 166,\n",
    "         'osm_tertiary_road': 355,\n",
    "         'osm_primary_road': 234,\n",
    "         'osm_railway': 184,\n",
    "         'osm_retail_zone': 272,\n",
    "         'osm_party': 234,\n",
    "         'osm_shop': 163,\n",
    "         'osm_industrial_zone': 272,\n",
    "         'osm_food': 271,\n",
    "         'noise': 49.9986629248497}\n",
    "    \"\"\"\n",
    "    dist  = [] # Distances\n",
    "    power = [] # Noise Power\n",
    "    info  = {} # Nearest of each type\n",
    "    \n",
    "    # get nearest x geometries of each type\n",
    "    for table in tables:\n",
    "        extention = \"\"\n",
    "        if table in speed_limits:\n",
    "            extention = \", maxspeed\"\n",
    "        cursor.execute(q.format(long, lat, table, max_dist, limits[table], extention))\n",
    "        record = cursor.fetchall()\n",
    "        for r in record:\n",
    "            dist.append(round(r[1]))\n",
    "            power.append(tables[table])\n",
    "            if table in speed_limits and r[2] and r[2] <= speed_limits[table][0]:\n",
    "                power[-1] -= 5\n",
    "            if table in speed_limits and r[2] and r[2] <= speed_limits[table][1]:\n",
    "                power[-1] -= 5\n",
    "            info[table] = info.get(table, round(r[1]))\n",
    "\n",
    "    # Noise calculation formula (simple noise propagations)\n",
    "    dist = np.array(dist).clip(5)\n",
    "    power = np.array(power)\n",
    "    info[\"noise\"] = np.log10((10**(power / 10 - 2 * abs(np.log10(dist)) - dist / 3000)).sum()) * 10\n",
    "    return info"
   ]
  },
  {
   "cell_type": "code",
   "execution_count": 7,
   "id": "ef0ffff5",
   "metadata": {},
   "outputs": [
    {
     "name": "stdout",
     "output_type": "stream",
     "text": [
      "CPU times: user 2.16 ms, sys: 2.78 ms, total: 4.94 ms\n",
      "Wall time: 48.7 ms\n"
     ]
    },
    {
     "data": {
      "text/plain": [
       "{'osm_secondary_road': 410,\n",
       " 'osm_tertiary_road': 369,\n",
       " 'osm_primary_road': 233,\n",
       " 'osm_railway': 1066,\n",
       " 'osm_retail_zone': 170,\n",
       " 'osm_sport': 121,\n",
       " 'osm_sport_point': 888,\n",
       " 'osm_leisure': 1061,\n",
       " 'osm_party': 733,\n",
       " 'osm_shop': 259,\n",
       " 'osm_industrial_zone': 339,\n",
       " 'osm_food': 251,\n",
       " 'osm_school': 158,\n",
       " 'osm_school_point': 747,\n",
       " 'noise': 42.5120735798405}"
      ]
     },
     "execution_count": 7,
     "metadata": {},
     "output_type": "execute_result"
    }
   ],
   "source": [
    "%%time\n",
    "noise(8.451002, 50.092927, tables)"
   ]
  },
  {
   "cell_type": "code",
   "execution_count": null,
   "id": "21c5b963",
   "metadata": {},
   "outputs": [],
   "source": []
  }
 ],
 "metadata": {
  "kernelspec": {
   "display_name": "Python 3 (ipykernel)",
   "language": "python",
   "name": "python3"
  },
  "language_info": {
   "codemirror_mode": {
    "name": "ipython",
    "version": 3
   },
   "file_extension": ".py",
   "mimetype": "text/x-python",
   "name": "python",
   "nbconvert_exporter": "python",
   "pygments_lexer": "ipython3",
   "version": "3.9.7"
  }
 },
 "nbformat": 4,
 "nbformat_minor": 5
}
