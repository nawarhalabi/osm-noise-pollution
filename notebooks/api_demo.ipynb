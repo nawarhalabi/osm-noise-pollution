{
 "cells": [
  {
   "cell_type": "code",
   "execution_count": 24,
   "id": "57bc387a",
   "metadata": {},
   "outputs": [],
   "source": [
    "import numpy as np\n",
    "import psycopg2\n",
    "import matplotlib.pyplot as plt\n",
    "\n",
    "# Connect to DB containing the exported tables using import-osm\n",
    "# Based on martinelli's work\n",
    "connection = psycopg2.connect(\n",
    "    database=\"noise\",\n",
    "    user=\"noise\",\n",
    "    password=\"noise\",\n",
    "    host=\"localhost\",\n",
    "    port=62341 # Change to the port postgres is accessible from\n",
    ")\n",
    "cursor = connection.cursor()"
   ]
  },
  {
   "cell_type": "markdown",
   "id": "b7b83b32",
   "metadata": {},
   "source": [
    "## Query\n",
    "This query gets all geometries within x meters of certain long, lat of a certain type"
   ]
  },
  {
   "cell_type": "code",
   "execution_count": 25,
   "id": "b2d1c83f",
   "metadata": {},
   "outputs": [],
   "source": [
    "q = \"\"\"\n",
    "SELECT\n",
    "    id,\n",
    "    ST_Distance(ST_Transform(ST_SetSrid(ST_Point({0}, {1}), 4326), 3857), geometry) * cosd({1}) dist\n",
    "FROM {2}\n",
    "WHERE\n",
    "    ST_DWithin(ST_Transform(ST_SetSrid(ST_Point({0}, {1}), 4326), 3857), geometry, {3} / cosd({1}))\n",
    "ORDER BY dist\n",
    "LIMIT {4}\n",
    "\"\"\""
   ]
  },
  {
   "cell_type": "markdown",
   "id": "70eb0f4c",
   "metadata": {},
   "source": [
    "## Config\n",
    "* tables: the table names containing the geometries. Mapping to the noise produced by each geometry\n",
    "* limits: How many rows to retreive from each table for measuring noise"
   ]
  },
  {
   "cell_type": "code",
   "execution_count": 26,
   "id": "7e47febd",
   "metadata": {},
   "outputs": [],
   "source": [
    "tables = {\n",
    "    \"osm_light_railway\": 80,\n",
    "    \"osm_secondary_road\": 87,\n",
    "    \"osm_trunk\": 100,\n",
    "    \"osm_motorway\": 110,\n",
    "    \"osm_tertiary_road\": 80,\n",
    "    \"osm_primary_road\": 95,\n",
    "    \"osm_railway\": 85,\n",
    "    \"osm_retail_zone\": 90,\n",
    "    \"osm_sport\": 70,\n",
    "    \"osm_leisure\": 65,\n",
    "    \"osm_party\": 80,\n",
    "    \"osm_shop\": 65,\n",
    "    \"osm_industrial_zone\": 90,\n",
    "    \"osm_food\": 65,\n",
    "}\n",
    "limits = {\n",
    "    \"osm_light_railway\": 1,\n",
    "    \"osm_secondary_road\": 1,\n",
    "    \"osm_trunk\": 1,\n",
    "    \"osm_motorway\": 1,\n",
    "    \"osm_tertiary_road\": 1,\n",
    "    \"osm_primary_road\": 1,\n",
    "    \"osm_railway\": 1,\n",
    "    \"osm_retail_zone\": 10,\n",
    "    \"osm_sport\": 10,\n",
    "    \"osm_leisure\": 10,\n",
    "    \"osm_party\": 10,\n",
    "    \"osm_shop\": 10,\n",
    "    \"osm_industrial_zone\": 10,\n",
    "    \"osm_food\": 10,\n",
    "}"
   ]
  },
  {
   "cell_type": "markdown",
   "id": "d7df1830",
   "metadata": {},
   "source": [
    "## Endpoint\n",
    "\n",
    "A function that calculates noise given long, lat"
   ]
  },
  {
   "cell_type": "code",
   "execution_count": 27,
   "id": "4b39d7cc",
   "metadata": {},
   "outputs": [],
   "source": [
    "def noise(long, lat, max_dist=1200):\n",
    "    \"\"\"Noise report for certain long, lat\n",
    "    \n",
    "    Args:\n",
    "        long: Longitude\n",
    "        lat: Latitude\n",
    "        max_dist: Maximum distance to look for geometries for\n",
    "        \n",
    "    Returns:\n",
    "        dict containing the report of the structure\n",
    "        {'osm_secondary_road': 166,\n",
    "         'osm_tertiary_road': 355,\n",
    "         'osm_primary_road': 234,\n",
    "         'osm_railway': 184,\n",
    "         'osm_retail_zone': 272,\n",
    "         'osm_party': 234,\n",
    "         'osm_shop': 163,\n",
    "         'osm_industrial_zone': 272,\n",
    "         'osm_food': 271,\n",
    "         'noise': 49.9986629248497}\n",
    "    \"\"\"\n",
    "    dist  = [] # Distances\n",
    "    power = [] # Noise Power\n",
    "    info  = {} # Nearest of each type\n",
    "    \n",
    "    # get nearest x geometries of each type\n",
    "    for table in tables:\n",
    "        cursor.execute(q.format(long, lat, table, max_dist, limits[table]))\n",
    "        record = cursor.fetchall()\n",
    "        for r in record:\n",
    "            dist.append(round(r[1]))\n",
    "            power.append(tables[table])\n",
    "            info[table] = info.get(table, round(r[1]))\n",
    "\n",
    "    # Noise calculation formula (simple noise propagations)\n",
    "    dist = np.array(dist).clip(0.01)\n",
    "    power = np.array(power)\n",
    "    info[\"noise\"] = np.log10((10**(power / 10 - 2 * abs(np.log10(dist)) - dist / 3000)).sum()) * 10\n",
    "    return info"
   ]
  },
  {
   "cell_type": "code",
   "execution_count": 28,
   "id": "b4ce9dc1",
   "metadata": {},
   "outputs": [
    {
     "name": "stdout",
     "output_type": "stream",
     "text": [
      "CPU times: user 2.09 ms, sys: 2.43 ms, total: 4.52 ms\n",
      "Wall time: 51.5 ms\n"
     ]
    },
    {
     "data": {
      "text/plain": [
       "{'osm_secondary_road': 166,\n",
       " 'osm_tertiary_road': 355,\n",
       " 'osm_primary_road': 234,\n",
       " 'osm_railway': 184,\n",
       " 'osm_retail_zone': 272,\n",
       " 'osm_party': 234,\n",
       " 'osm_shop': 163,\n",
       " 'osm_industrial_zone': 272,\n",
       " 'osm_food': 271,\n",
       " 'noise': 49.9986629248497}"
      ]
     },
     "execution_count": 28,
     "metadata": {},
     "output_type": "execute_result"
    }
   ],
   "source": [
    "%%time\n",
    "noise(8.444360, 50.082364)"
   ]
  },
  {
   "cell_type": "code",
   "execution_count": null,
   "id": "191c561f",
   "metadata": {},
   "outputs": [],
   "source": []
  }
 ],
 "metadata": {
  "kernelspec": {
   "display_name": "Python 3 (ipykernel)",
   "language": "python",
   "name": "python3"
  },
  "language_info": {
   "codemirror_mode": {
    "name": "ipython",
    "version": 3
   },
   "file_extension": ".py",
   "mimetype": "text/x-python",
   "name": "python",
   "nbconvert_exporter": "python",
   "pygments_lexer": "ipython3",
   "version": "3.9.7"
  }
 },
 "nbformat": 4,
 "nbformat_minor": 5
}
